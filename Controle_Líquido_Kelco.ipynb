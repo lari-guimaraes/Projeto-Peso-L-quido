{
  "nbformat": 4,
  "nbformat_minor": 0,
  "metadata": {
    "colab": {
      "name": "Controle Líquido Kelco.ipynb",
      "provenance": [],
      "authorship_tag": "ABX9TyM4PR1S/z9Ho1bejpZFMnqg",
      "include_colab_link": true
    },
    "kernelspec": {
      "name": "python3",
      "display_name": "Python 3"
    },
    "language_info": {
      "name": "python"
    }
  },
  "cells": [
    {
      "cell_type": "markdown",
      "metadata": {
        "id": "view-in-github",
        "colab_type": "text"
      },
      "source": [
        "<a href=\"https://colab.research.google.com/github/lari-guimaraes/Projeto-Peso-L-quido/blob/main/Controle_L%C3%ADquido_Kelco.ipynb\" target=\"_parent\"><img src=\"https://colab.research.google.com/assets/colab-badge.svg\" alt=\"Open In Colab\"/></a>"
      ]
    },
    {
      "cell_type": "code",
      "execution_count": 1,
      "metadata": {
        "id": "hYKCaIhFn_BR"
      },
      "outputs": [],
      "source": [
        "import pandas as pd"
      ]
    },
    {
      "cell_type": "code",
      "source": [
        "dados = pd.read_excel('controle_liquido.xlsx')"
      ],
      "metadata": {
        "id": "UOa4SN-IojdF"
      },
      "execution_count": 2,
      "outputs": []
    },
    {
      "cell_type": "code",
      "source": [
        "dados"
      ],
      "metadata": {
        "colab": {
          "base_uri": "https://localhost:8080/",
          "height": 488
        },
        "id": "KeHKJ3q7opTA",
        "outputId": "2a856cf1-c93e-4bf5-a5c4-f097ed5c53e0"
      },
      "execution_count": 3,
      "outputs": [
        {
          "output_type": "execute_result",
          "data": {
            "text/plain": [
              "         5 22      6 22      7 22     10 22     11 22     12 22     13 22  \\\n",
              "0    PAN01090  PAN00934  PAN00934  PAN00934  PAN01089  PAN00800  PAN00917   \n",
              "1         122        74        61        64       123       513       101   \n",
              "2         120        74        67        60       119       513       104   \n",
              "3         119        72        67        60       123       513       103   \n",
              "4         122        78        65        62       123       512       104   \n",
              "..        ...       ...       ...       ...       ...       ...       ...   \n",
              "170       NaN       NaN       NaN       NaN       NaN       NaN        60   \n",
              "171       NaN       NaN       NaN       NaN       NaN       NaN        64   \n",
              "172       NaN       NaN       NaN       NaN       NaN       NaN        60   \n",
              "173       NaN       NaN       NaN       NaN       NaN       NaN        69   \n",
              "174       NaN       NaN       NaN       NaN       NaN       NaN        66   \n",
              "\n",
              "        14 22     17 22     18 22     19 22     20 22     21 22     24 22  \\\n",
              "0    PAN00917  PAN00934  PAN00946  PAN00932  PAN00796  PAN00799  PAN00795   \n",
              "1         105        64      1030        63        46        91        57   \n",
              "2         103        76      1012        65        57        87        57   \n",
              "3         106        64      1010        62        58        92        59   \n",
              "4         103        63      1013        63        59        93        57   \n",
              "..        ...       ...       ...       ...       ...       ...       ...   \n",
              "170       NaN       NaN       NaN       NaN       NaN       NaN       NaN   \n",
              "171       NaN       NaN       NaN       NaN       NaN       NaN       NaN   \n",
              "172       NaN       NaN       NaN       NaN       NaN       NaN       NaN   \n",
              "173       NaN       NaN       NaN       NaN       NaN       NaN       NaN   \n",
              "174       NaN       NaN       NaN       NaN       NaN       NaN       NaN   \n",
              "\n",
              "        25 22     26 22     27 22     28 22     31 22  \n",
              "0    PAN00795  PAN00933  PAN00797  PAN00933  PAN00933  \n",
              "1          56        72        50        63        60  \n",
              "2          59        63        51        63        60  \n",
              "3          59        63        50        64        61  \n",
              "4          61        73        50        72        82  \n",
              "..        ...       ...       ...       ...       ...  \n",
              "170       NaN       NaN       NaN       NaN       NaN  \n",
              "171       NaN       NaN       NaN       NaN       NaN  \n",
              "172       NaN       NaN       NaN       NaN       NaN  \n",
              "173       NaN       NaN       NaN       NaN       NaN  \n",
              "174       NaN       NaN       NaN       NaN       NaN  \n",
              "\n",
              "[175 rows x 19 columns]"
            ],
            "text/html": [
              "\n",
              "  <div id=\"df-e3eaee9e-8712-4851-8970-52fa772007c9\">\n",
              "    <div class=\"colab-df-container\">\n",
              "      <div>\n",
              "<style scoped>\n",
              "    .dataframe tbody tr th:only-of-type {\n",
              "        vertical-align: middle;\n",
              "    }\n",
              "\n",
              "    .dataframe tbody tr th {\n",
              "        vertical-align: top;\n",
              "    }\n",
              "\n",
              "    .dataframe thead th {\n",
              "        text-align: right;\n",
              "    }\n",
              "</style>\n",
              "<table border=\"1\" class=\"dataframe\">\n",
              "  <thead>\n",
              "    <tr style=\"text-align: right;\">\n",
              "      <th></th>\n",
              "      <th>5 22</th>\n",
              "      <th>6 22</th>\n",
              "      <th>7 22</th>\n",
              "      <th>10 22</th>\n",
              "      <th>11 22</th>\n",
              "      <th>12 22</th>\n",
              "      <th>13 22</th>\n",
              "      <th>14 22</th>\n",
              "      <th>17 22</th>\n",
              "      <th>18 22</th>\n",
              "      <th>19 22</th>\n",
              "      <th>20 22</th>\n",
              "      <th>21 22</th>\n",
              "      <th>24 22</th>\n",
              "      <th>25 22</th>\n",
              "      <th>26 22</th>\n",
              "      <th>27 22</th>\n",
              "      <th>28 22</th>\n",
              "      <th>31 22</th>\n",
              "    </tr>\n",
              "  </thead>\n",
              "  <tbody>\n",
              "    <tr>\n",
              "      <th>0</th>\n",
              "      <td>PAN01090</td>\n",
              "      <td>PAN00934</td>\n",
              "      <td>PAN00934</td>\n",
              "      <td>PAN00934</td>\n",
              "      <td>PAN01089</td>\n",
              "      <td>PAN00800</td>\n",
              "      <td>PAN00917</td>\n",
              "      <td>PAN00917</td>\n",
              "      <td>PAN00934</td>\n",
              "      <td>PAN00946</td>\n",
              "      <td>PAN00932</td>\n",
              "      <td>PAN00796</td>\n",
              "      <td>PAN00799</td>\n",
              "      <td>PAN00795</td>\n",
              "      <td>PAN00795</td>\n",
              "      <td>PAN00933</td>\n",
              "      <td>PAN00797</td>\n",
              "      <td>PAN00933</td>\n",
              "      <td>PAN00933</td>\n",
              "    </tr>\n",
              "    <tr>\n",
              "      <th>1</th>\n",
              "      <td>122</td>\n",
              "      <td>74</td>\n",
              "      <td>61</td>\n",
              "      <td>64</td>\n",
              "      <td>123</td>\n",
              "      <td>513</td>\n",
              "      <td>101</td>\n",
              "      <td>105</td>\n",
              "      <td>64</td>\n",
              "      <td>1030</td>\n",
              "      <td>63</td>\n",
              "      <td>46</td>\n",
              "      <td>91</td>\n",
              "      <td>57</td>\n",
              "      <td>56</td>\n",
              "      <td>72</td>\n",
              "      <td>50</td>\n",
              "      <td>63</td>\n",
              "      <td>60</td>\n",
              "    </tr>\n",
              "    <tr>\n",
              "      <th>2</th>\n",
              "      <td>120</td>\n",
              "      <td>74</td>\n",
              "      <td>67</td>\n",
              "      <td>60</td>\n",
              "      <td>119</td>\n",
              "      <td>513</td>\n",
              "      <td>104</td>\n",
              "      <td>103</td>\n",
              "      <td>76</td>\n",
              "      <td>1012</td>\n",
              "      <td>65</td>\n",
              "      <td>57</td>\n",
              "      <td>87</td>\n",
              "      <td>57</td>\n",
              "      <td>59</td>\n",
              "      <td>63</td>\n",
              "      <td>51</td>\n",
              "      <td>63</td>\n",
              "      <td>60</td>\n",
              "    </tr>\n",
              "    <tr>\n",
              "      <th>3</th>\n",
              "      <td>119</td>\n",
              "      <td>72</td>\n",
              "      <td>67</td>\n",
              "      <td>60</td>\n",
              "      <td>123</td>\n",
              "      <td>513</td>\n",
              "      <td>103</td>\n",
              "      <td>106</td>\n",
              "      <td>64</td>\n",
              "      <td>1010</td>\n",
              "      <td>62</td>\n",
              "      <td>58</td>\n",
              "      <td>92</td>\n",
              "      <td>59</td>\n",
              "      <td>59</td>\n",
              "      <td>63</td>\n",
              "      <td>50</td>\n",
              "      <td>64</td>\n",
              "      <td>61</td>\n",
              "    </tr>\n",
              "    <tr>\n",
              "      <th>4</th>\n",
              "      <td>122</td>\n",
              "      <td>78</td>\n",
              "      <td>65</td>\n",
              "      <td>62</td>\n",
              "      <td>123</td>\n",
              "      <td>512</td>\n",
              "      <td>104</td>\n",
              "      <td>103</td>\n",
              "      <td>63</td>\n",
              "      <td>1013</td>\n",
              "      <td>63</td>\n",
              "      <td>59</td>\n",
              "      <td>93</td>\n",
              "      <td>57</td>\n",
              "      <td>61</td>\n",
              "      <td>73</td>\n",
              "      <td>50</td>\n",
              "      <td>72</td>\n",
              "      <td>82</td>\n",
              "    </tr>\n",
              "    <tr>\n",
              "      <th>...</th>\n",
              "      <td>...</td>\n",
              "      <td>...</td>\n",
              "      <td>...</td>\n",
              "      <td>...</td>\n",
              "      <td>...</td>\n",
              "      <td>...</td>\n",
              "      <td>...</td>\n",
              "      <td>...</td>\n",
              "      <td>...</td>\n",
              "      <td>...</td>\n",
              "      <td>...</td>\n",
              "      <td>...</td>\n",
              "      <td>...</td>\n",
              "      <td>...</td>\n",
              "      <td>...</td>\n",
              "      <td>...</td>\n",
              "      <td>...</td>\n",
              "      <td>...</td>\n",
              "      <td>...</td>\n",
              "    </tr>\n",
              "    <tr>\n",
              "      <th>170</th>\n",
              "      <td>NaN</td>\n",
              "      <td>NaN</td>\n",
              "      <td>NaN</td>\n",
              "      <td>NaN</td>\n",
              "      <td>NaN</td>\n",
              "      <td>NaN</td>\n",
              "      <td>60</td>\n",
              "      <td>NaN</td>\n",
              "      <td>NaN</td>\n",
              "      <td>NaN</td>\n",
              "      <td>NaN</td>\n",
              "      <td>NaN</td>\n",
              "      <td>NaN</td>\n",
              "      <td>NaN</td>\n",
              "      <td>NaN</td>\n",
              "      <td>NaN</td>\n",
              "      <td>NaN</td>\n",
              "      <td>NaN</td>\n",
              "      <td>NaN</td>\n",
              "    </tr>\n",
              "    <tr>\n",
              "      <th>171</th>\n",
              "      <td>NaN</td>\n",
              "      <td>NaN</td>\n",
              "      <td>NaN</td>\n",
              "      <td>NaN</td>\n",
              "      <td>NaN</td>\n",
              "      <td>NaN</td>\n",
              "      <td>64</td>\n",
              "      <td>NaN</td>\n",
              "      <td>NaN</td>\n",
              "      <td>NaN</td>\n",
              "      <td>NaN</td>\n",
              "      <td>NaN</td>\n",
              "      <td>NaN</td>\n",
              "      <td>NaN</td>\n",
              "      <td>NaN</td>\n",
              "      <td>NaN</td>\n",
              "      <td>NaN</td>\n",
              "      <td>NaN</td>\n",
              "      <td>NaN</td>\n",
              "    </tr>\n",
              "    <tr>\n",
              "      <th>172</th>\n",
              "      <td>NaN</td>\n",
              "      <td>NaN</td>\n",
              "      <td>NaN</td>\n",
              "      <td>NaN</td>\n",
              "      <td>NaN</td>\n",
              "      <td>NaN</td>\n",
              "      <td>60</td>\n",
              "      <td>NaN</td>\n",
              "      <td>NaN</td>\n",
              "      <td>NaN</td>\n",
              "      <td>NaN</td>\n",
              "      <td>NaN</td>\n",
              "      <td>NaN</td>\n",
              "      <td>NaN</td>\n",
              "      <td>NaN</td>\n",
              "      <td>NaN</td>\n",
              "      <td>NaN</td>\n",
              "      <td>NaN</td>\n",
              "      <td>NaN</td>\n",
              "    </tr>\n",
              "    <tr>\n",
              "      <th>173</th>\n",
              "      <td>NaN</td>\n",
              "      <td>NaN</td>\n",
              "      <td>NaN</td>\n",
              "      <td>NaN</td>\n",
              "      <td>NaN</td>\n",
              "      <td>NaN</td>\n",
              "      <td>69</td>\n",
              "      <td>NaN</td>\n",
              "      <td>NaN</td>\n",
              "      <td>NaN</td>\n",
              "      <td>NaN</td>\n",
              "      <td>NaN</td>\n",
              "      <td>NaN</td>\n",
              "      <td>NaN</td>\n",
              "      <td>NaN</td>\n",
              "      <td>NaN</td>\n",
              "      <td>NaN</td>\n",
              "      <td>NaN</td>\n",
              "      <td>NaN</td>\n",
              "    </tr>\n",
              "    <tr>\n",
              "      <th>174</th>\n",
              "      <td>NaN</td>\n",
              "      <td>NaN</td>\n",
              "      <td>NaN</td>\n",
              "      <td>NaN</td>\n",
              "      <td>NaN</td>\n",
              "      <td>NaN</td>\n",
              "      <td>66</td>\n",
              "      <td>NaN</td>\n",
              "      <td>NaN</td>\n",
              "      <td>NaN</td>\n",
              "      <td>NaN</td>\n",
              "      <td>NaN</td>\n",
              "      <td>NaN</td>\n",
              "      <td>NaN</td>\n",
              "      <td>NaN</td>\n",
              "      <td>NaN</td>\n",
              "      <td>NaN</td>\n",
              "      <td>NaN</td>\n",
              "      <td>NaN</td>\n",
              "    </tr>\n",
              "  </tbody>\n",
              "</table>\n",
              "<p>175 rows × 19 columns</p>\n",
              "</div>\n",
              "      <button class=\"colab-df-convert\" onclick=\"convertToInteractive('df-e3eaee9e-8712-4851-8970-52fa772007c9')\"\n",
              "              title=\"Convert this dataframe to an interactive table.\"\n",
              "              style=\"display:none;\">\n",
              "        \n",
              "  <svg xmlns=\"http://www.w3.org/2000/svg\" height=\"24px\"viewBox=\"0 0 24 24\"\n",
              "       width=\"24px\">\n",
              "    <path d=\"M0 0h24v24H0V0z\" fill=\"none\"/>\n",
              "    <path d=\"M18.56 5.44l.94 2.06.94-2.06 2.06-.94-2.06-.94-.94-2.06-.94 2.06-2.06.94zm-11 1L8.5 8.5l.94-2.06 2.06-.94-2.06-.94L8.5 2.5l-.94 2.06-2.06.94zm10 10l.94 2.06.94-2.06 2.06-.94-2.06-.94-.94-2.06-.94 2.06-2.06.94z\"/><path d=\"M17.41 7.96l-1.37-1.37c-.4-.4-.92-.59-1.43-.59-.52 0-1.04.2-1.43.59L10.3 9.45l-7.72 7.72c-.78.78-.78 2.05 0 2.83L4 21.41c.39.39.9.59 1.41.59.51 0 1.02-.2 1.41-.59l7.78-7.78 2.81-2.81c.8-.78.8-2.07 0-2.86zM5.41 20L4 18.59l7.72-7.72 1.47 1.35L5.41 20z\"/>\n",
              "  </svg>\n",
              "      </button>\n",
              "      \n",
              "  <style>\n",
              "    .colab-df-container {\n",
              "      display:flex;\n",
              "      flex-wrap:wrap;\n",
              "      gap: 12px;\n",
              "    }\n",
              "\n",
              "    .colab-df-convert {\n",
              "      background-color: #E8F0FE;\n",
              "      border: none;\n",
              "      border-radius: 50%;\n",
              "      cursor: pointer;\n",
              "      display: none;\n",
              "      fill: #1967D2;\n",
              "      height: 32px;\n",
              "      padding: 0 0 0 0;\n",
              "      width: 32px;\n",
              "    }\n",
              "\n",
              "    .colab-df-convert:hover {\n",
              "      background-color: #E2EBFA;\n",
              "      box-shadow: 0px 1px 2px rgba(60, 64, 67, 0.3), 0px 1px 3px 1px rgba(60, 64, 67, 0.15);\n",
              "      fill: #174EA6;\n",
              "    }\n",
              "\n",
              "    [theme=dark] .colab-df-convert {\n",
              "      background-color: #3B4455;\n",
              "      fill: #D2E3FC;\n",
              "    }\n",
              "\n",
              "    [theme=dark] .colab-df-convert:hover {\n",
              "      background-color: #434B5C;\n",
              "      box-shadow: 0px 1px 3px 1px rgba(0, 0, 0, 0.15);\n",
              "      filter: drop-shadow(0px 1px 2px rgba(0, 0, 0, 0.3));\n",
              "      fill: #FFFFFF;\n",
              "    }\n",
              "  </style>\n",
              "\n",
              "      <script>\n",
              "        const buttonEl =\n",
              "          document.querySelector('#df-e3eaee9e-8712-4851-8970-52fa772007c9 button.colab-df-convert');\n",
              "        buttonEl.style.display =\n",
              "          google.colab.kernel.accessAllowed ? 'block' : 'none';\n",
              "\n",
              "        async function convertToInteractive(key) {\n",
              "          const element = document.querySelector('#df-e3eaee9e-8712-4851-8970-52fa772007c9');\n",
              "          const dataTable =\n",
              "            await google.colab.kernel.invokeFunction('convertToInteractive',\n",
              "                                                     [key], {});\n",
              "          if (!dataTable) return;\n",
              "\n",
              "          const docLinkHtml = 'Like what you see? Visit the ' +\n",
              "            '<a target=\"_blank\" href=https://colab.research.google.com/notebooks/data_table.ipynb>data table notebook</a>'\n",
              "            + ' to learn more about interactive tables.';\n",
              "          element.innerHTML = '';\n",
              "          dataTable['output_type'] = 'display_data';\n",
              "          await google.colab.output.renderOutput(dataTable, element);\n",
              "          const docLink = document.createElement('div');\n",
              "          docLink.innerHTML = docLinkHtml;\n",
              "          element.appendChild(docLink);\n",
              "        }\n",
              "      </script>\n",
              "    </div>\n",
              "  </div>\n",
              "  "
            ]
          },
          "metadata": {},
          "execution_count": 3
        }
      ]
    },
    {
      "cell_type": "code",
      "source": [
        "lote = input('Lote: ')\n",
        "dados[lote]"
      ],
      "metadata": {
        "id": "grfW5Q2Udc3u",
        "outputId": "9025764f-6611-4f8e-f71a-a0a0a631fc0e",
        "colab": {
          "base_uri": "https://localhost:8080/"
        }
      },
      "execution_count": 8,
      "outputs": [
        {
          "name": "stdout",
          "output_type": "stream",
          "text": [
            "Lote: 5 22\n"
          ]
        },
        {
          "output_type": "execute_result",
          "data": {
            "text/plain": [
              "0      PAN01090\n",
              "1           122\n",
              "2           120\n",
              "3           119\n",
              "4           122\n",
              "         ...   \n",
              "170         NaN\n",
              "171         NaN\n",
              "172         NaN\n",
              "173         NaN\n",
              "174         NaN\n",
              "Name: 5 22, Length: 175, dtype: object"
            ]
          },
          "metadata": {},
          "execution_count": 8
        }
      ]
    },
    {
      "cell_type": "code",
      "source": [
        "codigo_produto = input('Código do produto: ')\n",
        "codigo = []\n",
        "codigo = [ s for s in dados[lote] if \"codigo_produto\" in s]"
      ],
      "metadata": {
        "id": "8xtRrLIddwrO",
        "outputId": "efb184cb-8c69-4a69-80ad-8c0a2c0d3586",
        "colab": {
          "base_uri": "https://localhost:8080/",
          "height": 304
        }
      },
      "execution_count": 14,
      "outputs": [
        {
          "name": "stdout",
          "output_type": "stream",
          "text": [
            "Código do produto: PAN1090\n"
          ]
        },
        {
          "output_type": "error",
          "ename": "TypeError",
          "evalue": "ignored",
          "traceback": [
            "\u001b[0;31m---------------------------------------------------------------------------\u001b[0m",
            "\u001b[0;31mTypeError\u001b[0m                                 Traceback (most recent call last)",
            "\u001b[0;32m<ipython-input-14-718560503cc3>\u001b[0m in \u001b[0;36m<module>\u001b[0;34m()\u001b[0m\n\u001b[1;32m      1\u001b[0m \u001b[0mcodigo_produto\u001b[0m \u001b[0;34m=\u001b[0m \u001b[0minput\u001b[0m\u001b[0;34m(\u001b[0m\u001b[0;34m'Código do produto: '\u001b[0m\u001b[0;34m)\u001b[0m\u001b[0;34m\u001b[0m\u001b[0;34m\u001b[0m\u001b[0m\n\u001b[1;32m      2\u001b[0m \u001b[0mcodigo\u001b[0m \u001b[0;34m=\u001b[0m \u001b[0;34m[\u001b[0m\u001b[0;34m]\u001b[0m\u001b[0;34m\u001b[0m\u001b[0;34m\u001b[0m\u001b[0m\n\u001b[0;32m----> 3\u001b[0;31m \u001b[0mcodigo\u001b[0m \u001b[0;34m=\u001b[0m \u001b[0;34m[\u001b[0m \u001b[0ms\u001b[0m \u001b[0;32mfor\u001b[0m \u001b[0ms\u001b[0m \u001b[0;32min\u001b[0m \u001b[0mdados\u001b[0m\u001b[0;34m[\u001b[0m\u001b[0mlote\u001b[0m\u001b[0;34m]\u001b[0m \u001b[0;32mif\u001b[0m \u001b[0;34m\"codigo_produto\"\u001b[0m \u001b[0;32min\u001b[0m \u001b[0ms\u001b[0m\u001b[0;34m]\u001b[0m\u001b[0;34m\u001b[0m\u001b[0;34m\u001b[0m\u001b[0m\n\u001b[0m",
            "\u001b[0;32m<ipython-input-14-718560503cc3>\u001b[0m in \u001b[0;36m<listcomp>\u001b[0;34m(.0)\u001b[0m\n\u001b[1;32m      1\u001b[0m \u001b[0mcodigo_produto\u001b[0m \u001b[0;34m=\u001b[0m \u001b[0minput\u001b[0m\u001b[0;34m(\u001b[0m\u001b[0;34m'Código do produto: '\u001b[0m\u001b[0;34m)\u001b[0m\u001b[0;34m\u001b[0m\u001b[0;34m\u001b[0m\u001b[0m\n\u001b[1;32m      2\u001b[0m \u001b[0mcodigo\u001b[0m \u001b[0;34m=\u001b[0m \u001b[0;34m[\u001b[0m\u001b[0;34m]\u001b[0m\u001b[0;34m\u001b[0m\u001b[0;34m\u001b[0m\u001b[0m\n\u001b[0;32m----> 3\u001b[0;31m \u001b[0mcodigo\u001b[0m \u001b[0;34m=\u001b[0m \u001b[0;34m[\u001b[0m \u001b[0ms\u001b[0m \u001b[0;32mfor\u001b[0m \u001b[0ms\u001b[0m \u001b[0;32min\u001b[0m \u001b[0mdados\u001b[0m\u001b[0;34m[\u001b[0m\u001b[0mlote\u001b[0m\u001b[0;34m]\u001b[0m \u001b[0;32mif\u001b[0m \u001b[0;34m\"codigo_produto\"\u001b[0m \u001b[0;32min\u001b[0m \u001b[0ms\u001b[0m\u001b[0;34m]\u001b[0m\u001b[0;34m\u001b[0m\u001b[0;34m\u001b[0m\u001b[0m\n\u001b[0m",
            "\u001b[0;31mTypeError\u001b[0m: argument of type 'int' is not iterable"
          ]
        }
      ]
    },
    {
      "cell_type": "code",
      "source": [
        "# media = dados.mean()\n",
        "# media"
      ],
      "metadata": {
        "colab": {
          "base_uri": "https://localhost:8080/"
        },
        "id": "caKaYTE3o7FN",
        "outputId": "e11690d1-6365-4211-9671-e8d61284d8dc"
      },
      "execution_count": 4,
      "outputs": [
        {
          "output_type": "stream",
          "name": "stderr",
          "text": [
            "/usr/local/lib/python3.7/dist-packages/ipykernel_launcher.py:1: FutureWarning: Dropping of nuisance columns in DataFrame reductions (with 'numeric_only=None') is deprecated; in a future version this will raise TypeError.  Select only valid columns before calling the reduction.\n",
            "  \"\"\"Entry point for launching an IPython kernel.\n"
          ]
        },
        {
          "output_type": "execute_result",
          "data": {
            "text/plain": [
              "Series([], dtype: float64)"
            ]
          },
          "metadata": {},
          "execution_count": 4
        }
      ]
    },
    {
      "cell_type": "code",
      "source": [
        "Qn = 100\n",
        "k = 0.295\n",
        "desvio_padrao = dados.std()\n",
        "desvio_padrao"
      ],
      "metadata": {
        "colab": {
          "base_uri": "https://localhost:8080/"
        },
        "id": "h8-EbtmrpKF0",
        "outputId": "d3724731-2647-4c72-be9f-1f1282c4eaf0"
      },
      "execution_count": 5,
      "outputs": [
        {
          "output_type": "stream",
          "name": "stderr",
          "text": [
            "/usr/local/lib/python3.7/dist-packages/ipykernel_launcher.py:3: FutureWarning: Dropping of nuisance columns in DataFrame reductions (with 'numeric_only=None') is deprecated; in a future version this will raise TypeError.  Select only valid columns before calling the reduction.\n",
            "  This is separate from the ipykernel package so we can avoid doing imports until\n"
          ]
        },
        {
          "output_type": "execute_result",
          "data": {
            "text/plain": [
              "Series([], dtype: float64)"
            ]
          },
          "metadata": {},
          "execution_count": 5
        }
      ]
    },
    {
      "cell_type": "code",
      "source": [
        "criterio_media = Qn - (k*desvio_padrao)\n",
        "criterio_media"
      ],
      "metadata": {
        "colab": {
          "base_uri": "https://localhost:8080/"
        },
        "id": "XqVgjHegs1N7",
        "outputId": "ea8eabbd-3581-4f9f-e0bc-b4337a365f6b"
      },
      "execution_count": 6,
      "outputs": [
        {
          "output_type": "execute_result",
          "data": {
            "text/plain": [
              "Series([], dtype: float64)"
            ]
          },
          "metadata": {},
          "execution_count": 6
        }
      ]
    },
    {
      "cell_type": "code",
      "source": [
        "for i in range(0, len(dados)):\n",
        "  if dados >= criterio_media:\n",
        "    dados['Criterio Media'] = \"Aprovado\"\n",
        "  else:\n",
        "    dados['Criterio Media'] = 'Reprovado'"
      ],
      "metadata": {
        "colab": {
          "base_uri": "https://localhost:8080/",
          "height": 411
        },
        "id": "AuT5aJHgp1s2",
        "outputId": "11e254a8-7d6a-4279-fe6d-9ecf6303c21b"
      },
      "execution_count": 7,
      "outputs": [
        {
          "output_type": "stream",
          "name": "stderr",
          "text": [
            "/usr/local/lib/python3.7/dist-packages/ipykernel_launcher.py:2: FutureWarning: Automatic reindexing on DataFrame vs Series comparisons is deprecated and will raise ValueError in a future version.  Do `left, right = left.align(right, axis=1, copy=False)` before e.g. `left == right`\n",
            "  \n"
          ]
        },
        {
          "output_type": "error",
          "ename": "ValueError",
          "evalue": "ignored",
          "traceback": [
            "\u001b[0;31m---------------------------------------------------------------------------\u001b[0m",
            "\u001b[0;31mValueError\u001b[0m                                Traceback (most recent call last)",
            "\u001b[0;32m<ipython-input-7-5de9ab5bfbf6>\u001b[0m in \u001b[0;36m<module>\u001b[0;34m()\u001b[0m\n\u001b[1;32m      1\u001b[0m \u001b[0;32mfor\u001b[0m \u001b[0mi\u001b[0m \u001b[0;32min\u001b[0m \u001b[0mrange\u001b[0m\u001b[0;34m(\u001b[0m\u001b[0;36m0\u001b[0m\u001b[0;34m,\u001b[0m \u001b[0mlen\u001b[0m\u001b[0;34m(\u001b[0m\u001b[0mdados\u001b[0m\u001b[0;34m)\u001b[0m\u001b[0;34m)\u001b[0m\u001b[0;34m:\u001b[0m\u001b[0;34m\u001b[0m\u001b[0;34m\u001b[0m\u001b[0m\n\u001b[0;32m----> 2\u001b[0;31m   \u001b[0;32mif\u001b[0m \u001b[0mdados\u001b[0m \u001b[0;34m>=\u001b[0m \u001b[0mcriterio_media\u001b[0m\u001b[0;34m:\u001b[0m\u001b[0;34m\u001b[0m\u001b[0;34m\u001b[0m\u001b[0m\n\u001b[0m\u001b[1;32m      3\u001b[0m     \u001b[0mdados\u001b[0m\u001b[0;34m[\u001b[0m\u001b[0;34m'Criterio Media'\u001b[0m\u001b[0;34m]\u001b[0m \u001b[0;34m=\u001b[0m \u001b[0;34m\"Aprovado\"\u001b[0m\u001b[0;34m\u001b[0m\u001b[0;34m\u001b[0m\u001b[0m\n\u001b[1;32m      4\u001b[0m   \u001b[0;32melse\u001b[0m\u001b[0;34m:\u001b[0m\u001b[0;34m\u001b[0m\u001b[0;34m\u001b[0m\u001b[0m\n\u001b[1;32m      5\u001b[0m     \u001b[0mdados\u001b[0m\u001b[0;34m[\u001b[0m\u001b[0;34m'Criterio Media'\u001b[0m\u001b[0;34m]\u001b[0m \u001b[0;34m=\u001b[0m \u001b[0;34m'Reprovado'\u001b[0m\u001b[0;34m\u001b[0m\u001b[0;34m\u001b[0m\u001b[0m\n",
            "\u001b[0;32m/usr/local/lib/python3.7/dist-packages/pandas/core/generic.py\u001b[0m in \u001b[0;36m__nonzero__\u001b[0;34m(self)\u001b[0m\n\u001b[1;32m   1536\u001b[0m     \u001b[0;32mdef\u001b[0m \u001b[0m__nonzero__\u001b[0m\u001b[0;34m(\u001b[0m\u001b[0mself\u001b[0m\u001b[0;34m)\u001b[0m\u001b[0;34m:\u001b[0m\u001b[0;34m\u001b[0m\u001b[0;34m\u001b[0m\u001b[0m\n\u001b[1;32m   1537\u001b[0m         raise ValueError(\n\u001b[0;32m-> 1538\u001b[0;31m             \u001b[0;34mf\"The truth value of a {type(self).__name__} is ambiguous. \"\u001b[0m\u001b[0;34m\u001b[0m\u001b[0;34m\u001b[0m\u001b[0m\n\u001b[0m\u001b[1;32m   1539\u001b[0m             \u001b[0;34m\"Use a.empty, a.bool(), a.item(), a.any() or a.all().\"\u001b[0m\u001b[0;34m\u001b[0m\u001b[0;34m\u001b[0m\u001b[0m\n\u001b[1;32m   1540\u001b[0m         )\n",
            "\u001b[0;31mValueError\u001b[0m: The truth value of a DataFrame is ambiguous. Use a.empty, a.bool(), a.item(), a.any() or a.all()."
          ]
        }
      ]
    },
    {
      "cell_type": "code",
      "source": [
        ""
      ],
      "metadata": {
        "id": "LHG12M0GqJxl"
      },
      "execution_count": null,
      "outputs": []
    }
  ]
}